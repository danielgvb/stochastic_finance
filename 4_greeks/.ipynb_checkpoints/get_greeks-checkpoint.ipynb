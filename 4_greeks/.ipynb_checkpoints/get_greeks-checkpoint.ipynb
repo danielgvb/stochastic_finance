{
 "cells": [
  {
   "cell_type": "code",
   "execution_count": 1,
   "id": "c285c356-b4c2-497a-a13e-4497df355cbc",
   "metadata": {},
   "outputs": [
    {
     "ename": "TypeError",
     "evalue": "get_data() got an unexpected keyword argument 'symbols'",
     "output_type": "error",
     "traceback": [
      "\u001b[1;31m---------------------------------------------------------------------------\u001b[0m",
      "\u001b[1;31mTypeError\u001b[0m                                 Traceback (most recent call last)",
      "Cell \u001b[1;32mIn[1], line 8\u001b[0m\n\u001b[0;32m      5\u001b[0m instrument \u001b[38;5;241m=\u001b[39m \u001b[38;5;124m'\u001b[39m\u001b[38;5;124mAAPL.O\u001b[39m\u001b[38;5;124m'\u001b[39m  \u001b[38;5;66;03m# example: Apple Inc. stock options on NASDAQ\u001b[39;00m\n\u001b[0;32m      7\u001b[0m \u001b[38;5;66;03m# Get option chain data for the defined instrument\u001b[39;00m\n\u001b[1;32m----> 8\u001b[0m option_chain_data \u001b[38;5;241m=\u001b[39m rdp\u001b[38;5;241m.\u001b[39mget_data(\n\u001b[0;32m      9\u001b[0m     \u001b[38;5;124m'\u001b[39m\u001b[38;5;124moptions\u001b[39m\u001b[38;5;124m'\u001b[39m,\n\u001b[0;32m     10\u001b[0m     symbols\u001b[38;5;241m=\u001b[39minstrument,\n\u001b[0;32m     11\u001b[0m     fields\u001b[38;5;241m=\u001b[39m[\u001b[38;5;124m'\u001b[39m\u001b[38;5;124mOPT_CHAIN\u001b[39m\u001b[38;5;124m'\u001b[39m, \u001b[38;5;124m'\u001b[39m\u001b[38;5;124mOPT_DELTA\u001b[39m\u001b[38;5;124m'\u001b[39m, \u001b[38;5;124m'\u001b[39m\u001b[38;5;124mOPT_GAMMA\u001b[39m\u001b[38;5;124m'\u001b[39m, \u001b[38;5;124m'\u001b[39m\u001b[38;5;124mOPT_VEGA\u001b[39m\u001b[38;5;124m'\u001b[39m, \u001b[38;5;124m'\u001b[39m\u001b[38;5;124mOPT_THETA\u001b[39m\u001b[38;5;124m'\u001b[39m, \u001b[38;5;124m'\u001b[39m\u001b[38;5;124mOPT_RHO\u001b[39m\u001b[38;5;124m'\u001b[39m]\n\u001b[0;32m     12\u001b[0m )\n\u001b[0;32m     14\u001b[0m \u001b[38;5;66;03m# Extract the Greeks from the fetched data\u001b[39;00m\n\u001b[0;32m     15\u001b[0m option_greeks \u001b[38;5;241m=\u001b[39m option_chain_data\u001b[38;5;241m.\u001b[39mget(\u001b[38;5;124m'\u001b[39m\u001b[38;5;124mOPT_CHAIN\u001b[39m\u001b[38;5;124m'\u001b[39m)\n",
      "\u001b[1;31mTypeError\u001b[0m: get_data() got an unexpected keyword argument 'symbols'"
     ]
    }
   ],
   "source": [
    "import refinitiv.data as rdp\n",
    "\n",
    "\n",
    "# Define the instrument for which you want to get option Greeks\n",
    "instrument = 'AAPL.O'  # example: Apple Inc. stock options on NASDAQ\n",
    "\n",
    "# Get option chain data for the defined instrument\n",
    "option_chain_data = rdp.get_data(\n",
    "    'options',\n",
    "    symbols=instrument,\n",
    "    fields=['OPT_CHAIN', 'OPT_DELTA', 'OPT_GAMMA', 'OPT_VEGA', 'OPT_THETA', 'OPT_RHO']\n",
    ")\n",
    "\n",
    "# Extract the Greeks from the fetched data\n",
    "option_greeks = option_chain_data.get('OPT_CHAIN')\n",
    "\n",
    "# Optionally, you can calculate additional metrics or format the data for easier analysis\n",
    "# Here, you can create a DataFrame to view the Greeks for different tenures and spot prices\n",
    "import pandas as pd\n",
    "\n",
    "greeks_df = pd.DataFrame(option_greeks)\n",
    "\n",
    "# Now you can manipulate or analyze the DataFrame to examine different tenures and spot prices\n",
    "print(greeks_df)"
   ]
  }
 ],
 "metadata": {
  "kernelspec": {
   "display_name": "Python 3 (ipykernel)",
   "language": "python",
   "name": "python3"
  },
  "language_info": {
   "codemirror_mode": {
    "name": "ipython",
    "version": 3
   },
   "file_extension": ".py",
   "mimetype": "text/x-python",
   "name": "python",
   "nbconvert_exporter": "python",
   "pygments_lexer": "ipython3",
   "version": "3.11.5"
  }
 },
 "nbformat": 4,
 "nbformat_minor": 5
}
