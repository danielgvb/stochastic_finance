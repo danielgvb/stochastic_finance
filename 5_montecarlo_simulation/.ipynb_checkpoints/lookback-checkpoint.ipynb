{
 "cells": [
  {
   "cell_type": "code",
   "execution_count": 5,
   "id": "c0660cb3-8ecd-4fb5-8146-35164d741051",
   "metadata": {},
   "outputs": [],
   "source": [
    "import numpy as np\n",
    "\n",
    "# define geometric brownian motion\n",
    "def geo_paths(S, T, r, q, sigma, steps, N):\n",
    "    \"\"\"\n",
    "    Inputs\n",
    "    #S = Current stock Price\n",
    "    #K = Strike Price\n",
    "    #T = Time to maturity 1 year = 1, 1 months = 1/12\n",
    "    #r = risk free interest rate\n",
    "    #q = dividend yield\n",
    "    # sigma = volatility \n",
    "    \n",
    "    Output\n",
    "    # [steps,N] Matrix of asset paths \n",
    "    \"\"\"\n",
    "    dt = T/steps\n",
    "    #S_{T} = ln(S_{0})+\\int_{0}^T(\\mu-\\frac{\\sigma^2}{2})dt+\\int_{0}^T \\sigma dW(t)\n",
    "    ST = np.log(S) +  np.cumsum(((r - q - sigma**2/2)*dt +\\\n",
    "                              sigma*np.sqrt(dt) * \\\n",
    "                              np.random.normal(size=(steps,N))),axis=0)\n",
    "    \n",
    "    return np.exp(ST)\n",
    "\n",
    "# simulate GBM \n",
    "# Change here to Excel Input\n",
    "S = 100 #stock price S_{0}\n",
    "K = 99 # strike\n",
    "T = 1 # time to maturity\n",
    "r = 0.01 # risk free risk in annual %\n",
    "q = 0.02 # annual dividend rate\n",
    "sigma = 0.20 # annual volatility in %\n",
    "steps = 252 # time steps\n",
    "N = 100 # number of trials\n",
    "# End here for Excel Input\n",
    "\n",
    "paths= geo_paths(S,T,r, q,sigma,steps,N)\n",
    "\n",
    "#  get payoffs of all paths\n",
    "payoffs = np.maximum(paths[-1]-K, 0)\n",
    "# do the option pricing by average of payoffs discounted \n",
    "option_price = np.mean(payoffs)*np.exp(-r*T) #discounting back to present value\n",
    "option_price"
   ]
  }
 ],
 "metadata": {
  "kernelspec": {
   "display_name": "Python 3 (ipykernel)",
   "language": "python",
   "name": "python3"
  },
  "language_info": {
   "codemirror_mode": {
    "name": "ipython",
    "version": 3
   },
   "file_extension": ".py",
   "mimetype": "text/x-python",
   "name": "python",
   "nbconvert_exporter": "python",
   "pygments_lexer": "ipython3",
   "version": "3.11.5"
  }
 },
 "nbformat": 4,
 "nbformat_minor": 5
}
